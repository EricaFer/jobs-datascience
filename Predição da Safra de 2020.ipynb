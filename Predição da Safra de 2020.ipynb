{
 "cells": [
  {
   "cell_type": "markdown",
   "metadata": {},
   "source": [
    "### Predição da Safra de 2020 | SciCrop\n",
    "\n",
    "<br>\n",
    "\n",
    "Neste Notebook será utilizado Machine Learning, mais especificamente Classificação* para prever o dano na safra de 2020 baseados nas informações abaixo:\n",
    "\n",
    "<br><br>\n",
    "\n",
    "*Foi escolhido a Classificação porque o resultado a ser previsto é categórico (1,2,3) e não quantitativo, como por exemplo, o número de insetos.\n",
    "\n",
    "<br>\n",
    "\n",
    "| Variável                 | Descrição                                                    |\n",
    "| ------------------------ | ------------------------------------------------------------ |\n",
    "| Identificador_Agricultor | IDENTIFICADOR DO CLIENTE                                     |\n",
    "| Estimativa_de_Insetos    | Estimativa de insetos por M²                                 |\n",
    "| Tipo_de_Cultivo          | Classificação do tipo de cultivo (0,1)                       |\n",
    "| Tipo_de_Solo             | Classificação do tipo de solo (0,1)                          |\n",
    "| Categoria_Pesticida      | Informação do uso de pesticidas (1- Nunca Usou, 2-Já Usou, 3-Esta usando) |\n",
    "| Doses_Semana             | Número de doses por semana                                   |\n",
    "| Semanas_Utilizando       | Número de semanas Utilizada                                  |\n",
    "| Semanas_Sem_Uso          | Número de semanas sem utilizar                               |\n",
    "| Temporada                | Temporada Climática (1,2,3)                                  |\n",
    "| dano_na_plantacao        | Variável de Predição - Dano no Cultivo (0=Sem Danos, 1=Danos causados por outros motivos, 2=Danos gerados pelos pesticidas) |\n"
   ]
  },
  {
   "cell_type": "markdown",
   "metadata": {},
   "source": [
    "Este notebook está dividido nas seguintes partes:\n",
    "\n",
    "<br>\n",
    "    \n",
    "    1. Setup do environment\n",
    "    2. EDA (Exploratory Data Analysis)\n",
    "    3. Limpando e organizando os dados (caso seja necessário)\n",
    "    4. Criação do Modelo de Predição\n",
    "    5. Tunando os Hiperparâmetros\n",
    "    6. Métricas de Avaliação\n",
    "    7. Visualizando Category Importance\n",
    "    8. Visualizando a predição "
   ]
  },
  {
   "cell_type": "markdown",
   "metadata": {},
   "source": [
    "### 1. Setup do environment"
   ]
  },
  {
   "cell_type": "code",
   "execution_count": 1,
   "metadata": {},
   "outputs": [],
   "source": [
    "# Ferramentas básicas\n",
    "import pandas               as pd\n",
    "import numpy                as np\n",
    "import seaborn              as sns\n",
    "import matplotlib.pyplot    as plt\n",
    "\n",
    "from scipy import stats\n",
    "\n",
    "%matplotlib inline"
   ]
  },
  {
   "cell_type": "code",
   "execution_count": null,
   "metadata": {},
   "outputs": [],
   "source": [
    "# Modelos"
   ]
  },
  {
   "cell_type": "code",
   "execution_count": null,
   "metadata": {},
   "outputs": [],
   "source": [
    "# Avalição"
   ]
  },
  {
   "cell_type": "code",
   "execution_count": 2,
   "metadata": {},
   "outputs": [
    {
     "data": {
      "text/plain": [
       "Index(['Unnamed: 0', 'Identificador_Agricultor', 'Estimativa_de_Insetos',\n",
       "       'Tipo_de_Cultivo', 'Tipo_de_Solo', 'Categoria_Pesticida',\n",
       "       'Doses_Semana', 'Semanas_Utilizando', 'Semanas_Sem_Uso', 'Temporada',\n",
       "       'dano_na_plantacao'],\n",
       "      dtype='object')"
      ]
     },
     "execution_count": 2,
     "metadata": {},
     "output_type": "execute_result"
    }
   ],
   "source": [
    "# Importando os dados\n",
    "Safra_18_19 = pd.read_csv('Safra_2018-2019.csv')\n",
    "\n",
    "# Visualizando a tabela\n",
    "Safra_18_19.columns"
   ]
  },
  {
   "cell_type": "markdown",
   "metadata": {},
   "source": [
    "### 2. EDA ( Exploratory Data Analysis)"
   ]
  },
  {
   "cell_type": "code",
   "execution_count": 43,
   "metadata": {},
   "outputs": [
    {
     "ename": "AttributeError",
     "evalue": "module 'numpy' has no attribute 'mode'",
     "output_type": "error",
     "traceback": [
      "\u001b[1;31m---------------------------------------------------------------------------\u001b[0m",
      "\u001b[1;31mAttributeError\u001b[0m                            Traceback (most recent call last)",
      "\u001b[1;32m<ipython-input-43-ae4e4db85538>\u001b[0m in \u001b[0;36m<module>\u001b[1;34m\u001b[0m\n\u001b[0;32m     20\u001b[0m          ylabel = 'Densidade')\n\u001b[0;32m     21\u001b[0m \u001b[1;33m\u001b[0m\u001b[0m\n\u001b[1;32m---> 22\u001b[1;33m \u001b[0mplt\u001b[0m\u001b[1;33m.\u001b[0m\u001b[0maxvline\u001b[0m\u001b[1;33m(\u001b[0m\u001b[0mnp\u001b[0m\u001b[1;33m.\u001b[0m\u001b[0mmode\u001b[0m\u001b[1;33m(\u001b[0m\u001b[0mxgb_errors\u001b[0m\u001b[1;33m)\u001b[0m\u001b[1;33m,\u001b[0m\u001b[0mcolor\u001b[0m\u001b[1;33m=\u001b[0m\u001b[1;34m'b'\u001b[0m\u001b[1;33m,\u001b[0m \u001b[0mlinestyle\u001b[0m\u001b[1;33m=\u001b[0m\u001b[1;34m'--'\u001b[0m\u001b[1;33m)\u001b[0m\u001b[1;33m\u001b[0m\u001b[1;33m\u001b[0m\u001b[0m\n\u001b[0m\u001b[0;32m     23\u001b[0m \u001b[0mplt\u001b[0m\u001b[1;33m.\u001b[0m\u001b[0mlegend\u001b[0m\u001b[1;33m(\u001b[0m\u001b[1;33m{\u001b[0m\u001b[1;34m'Moda'\u001b[0m\u001b[1;33m:\u001b[0m\u001b[0mmode\u001b[0m\u001b[1;33m}\u001b[0m\u001b[1;33m)\u001b[0m\u001b[1;33m\u001b[0m\u001b[1;33m\u001b[0m\u001b[0m\n\u001b[0;32m     24\u001b[0m \u001b[1;33m\u001b[0m\u001b[0m\n",
      "\u001b[1;32m~\\Downloads\\Tools\\Anaconda\\lib\\site-packages\\numpy\\__init__.py\u001b[0m in \u001b[0;36m__getattr__\u001b[1;34m(attr)\u001b[0m\n\u001b[0;32m    212\u001b[0m                 \u001b[1;32mreturn\u001b[0m \u001b[0mTester\u001b[0m\u001b[1;33m\u001b[0m\u001b[1;33m\u001b[0m\u001b[0m\n\u001b[0;32m    213\u001b[0m             \u001b[1;32melse\u001b[0m\u001b[1;33m:\u001b[0m\u001b[1;33m\u001b[0m\u001b[1;33m\u001b[0m\u001b[0m\n\u001b[1;32m--> 214\u001b[1;33m                 raise AttributeError(\"module {!r} has no attribute \"\n\u001b[0m\u001b[0;32m    215\u001b[0m                                      \"{!r}\".format(__name__, attr))\n\u001b[0;32m    216\u001b[0m \u001b[1;33m\u001b[0m\u001b[0m\n",
      "\u001b[1;31mAttributeError\u001b[0m: module 'numpy' has no attribute 'mode'"
     ]
    },
    {
     "data": {
      "image/png": "[encoded data removed]",
      "text/plain": [
       "<Figure size 679.723x432 with 1 Axes>"
      ]
     },
     "metadata": {},
     "output_type": "display_data"
    }
   ],
   "source": [
    "# Visualizando a correlação entre o número de insetos e a estação do ano\n",
    "sns.set_style('whitegrid')\n",
    "\n",
    "sns.set(rc={'figure.figsize':(1,20)})\n",
    "\n",
    "mode = stats.mode(Safra_18_19.Estimativa_de_Insetos)\n",
    "\n",
    "plot = sns.displot( x       = Safra_18_19.Estimativa_de_Insetos,\n",
    "                    hue      = Safra_18_19.Temporada, \n",
    "                    kind     = 'kde',\n",
    "                    height   = 6, \n",
    "                    aspect   = 11.7/8.27)\n",
    "\n",
    "plot.fig.suptitle('Número de Insetos por Temporada',\n",
    "                   y          = 1.05,\n",
    "                   fontsize   = 20, \n",
    "                   fontweight = 'bold')\n",
    "\n",
    "plot.set(xlabel = 'Estimativa de Insetos',\n",
    "         ylabel = 'Densidade')\n",
    "\n",
    "plt.axvline(np.mode(xgb_errors),color='b', linestyle='--')\n",
    "plt.legend({'Moda':mode})\n",
    "\n",
    "plt.show()"
   ]
  },
  {
   "cell_type": "code",
   "execution_count": null,
   "metadata": {},
   "outputs": [],
   "source": [
    "# Visualizando a correlação entre"
   ]
  },
  {
   "cell_type": "markdown",
   "metadata": {},
   "source": [
    "### 3. Limpando e organizando os dados (caso seja necessário)\n",
    "\n",
    "<br>\n",
    "\n",
    "Seja julgado se é necessário limpar e organizar caso:\n",
    "\n",
    "<br>\n",
    "\n",
    "* O dados não estejam organizados.\n",
    "* Tenha dado faltando.\n",
    "* Existam dados categóricos.\n",
    "* Algum dado esteja no formato errado (ex.: `str`, `int`)"
   ]
  },
  {
   "cell_type": "code",
   "execution_count": 4,
   "metadata": {},
   "outputs": [
    {
     "data": {
      "text/html": [
       "<div>\n",
       "<style scoped>\n",
       "    .dataframe tbody tr th:only-of-type {\n",
       "        vertical-align: middle;\n",
       "    }\n",
       "\n",
       "    .dataframe tbody tr th {\n",
       "        vertical-align: top;\n",
       "    }\n",
       "\n",
       "    .dataframe thead th {\n",
       "        text-align: right;\n",
       "    }\n",
       "</style>\n",
       "<table border=\"1\" class=\"dataframe\">\n",
       "  <thead>\n",
       "    <tr style=\"text-align: right;\">\n",
       "      <th></th>\n",
       "      <th>Unnamed: 0</th>\n",
       "      <th>Identificador_Agricultor</th>\n",
       "      <th>Estimativa_de_Insetos</th>\n",
       "      <th>Tipo_de_Cultivo</th>\n",
       "      <th>Tipo_de_Solo</th>\n",
       "      <th>Categoria_Pesticida</th>\n",
       "      <th>Doses_Semana</th>\n",
       "      <th>Semanas_Utilizando</th>\n",
       "      <th>Semanas_Sem_Uso</th>\n",
       "      <th>Temporada</th>\n",
       "      <th>dano_na_plantacao</th>\n",
       "    </tr>\n",
       "  </thead>\n",
       "  <tbody>\n",
       "    <tr>\n",
       "      <th>79995</th>\n",
       "      <td>79995</td>\n",
       "      <td>SCROP79996</td>\n",
       "      <td>209</td>\n",
       "      <td>0</td>\n",
       "      <td>1</td>\n",
       "      <td>2</td>\n",
       "      <td>20</td>\n",
       "      <td>12.0</td>\n",
       "      <td>6</td>\n",
       "      <td>2</td>\n",
       "      <td>0</td>\n",
       "    </tr>\n",
       "    <tr>\n",
       "      <th>79996</th>\n",
       "      <td>79996</td>\n",
       "      <td>SCROP79997</td>\n",
       "      <td>232</td>\n",
       "      <td>0</td>\n",
       "      <td>1</td>\n",
       "      <td>2</td>\n",
       "      <td>20</td>\n",
       "      <td>12.0</td>\n",
       "      <td>9</td>\n",
       "      <td>1</td>\n",
       "      <td>0</td>\n",
       "    </tr>\n",
       "    <tr>\n",
       "      <th>79997</th>\n",
       "      <td>79997</td>\n",
       "      <td>SCROP79998</td>\n",
       "      <td>256</td>\n",
       "      <td>0</td>\n",
       "      <td>1</td>\n",
       "      <td>2</td>\n",
       "      <td>10</td>\n",
       "      <td>14.0</td>\n",
       "      <td>10</td>\n",
       "      <td>1</td>\n",
       "      <td>0</td>\n",
       "    </tr>\n",
       "    <tr>\n",
       "      <th>79998</th>\n",
       "      <td>79998</td>\n",
       "      <td>SCROP79999</td>\n",
       "      <td>256</td>\n",
       "      <td>0</td>\n",
       "      <td>1</td>\n",
       "      <td>2</td>\n",
       "      <td>10</td>\n",
       "      <td>16.0</td>\n",
       "      <td>8</td>\n",
       "      <td>2</td>\n",
       "      <td>0</td>\n",
       "    </tr>\n",
       "    <tr>\n",
       "      <th>79999</th>\n",
       "      <td>79999</td>\n",
       "      <td>SCROP80000</td>\n",
       "      <td>256</td>\n",
       "      <td>0</td>\n",
       "      <td>1</td>\n",
       "      <td>2</td>\n",
       "      <td>20</td>\n",
       "      <td>11.0</td>\n",
       "      <td>10</td>\n",
       "      <td>2</td>\n",
       "      <td>0</td>\n",
       "    </tr>\n",
       "  </tbody>\n",
       "</table>\n",
       "</div>"
      ],
      "text/plain": [
       "       Unnamed: 0 Identificador_Agricultor  Estimativa_de_Insetos  \\\n",
       "79995       79995               SCROP79996                    209   \n",
       "79996       79996               SCROP79997                    232   \n",
       "79997       79997               SCROP79998                    256   \n",
       "79998       79998               SCROP79999                    256   \n",
       "79999       79999               SCROP80000                    256   \n",
       "\n",
       "       Tipo_de_Cultivo  Tipo_de_Solo  Categoria_Pesticida  Doses_Semana  \\\n",
       "79995                0             1                    2            20   \n",
       "79996                0             1                    2            20   \n",
       "79997                0             1                    2            10   \n",
       "79998                0             1                    2            10   \n",
       "79999                0             1                    2            20   \n",
       "\n",
       "       Semanas_Utilizando  Semanas_Sem_Uso  Temporada  dano_na_plantacao  \n",
       "79995                12.0                6          2                  0  \n",
       "79996                12.0                9          1                  0  \n",
       "79997                14.0               10          1                  0  \n",
       "79998                16.0                8          2                  0  \n",
       "79999                11.0               10          2                  0  "
      ]
     },
     "execution_count": 4,
     "metadata": {},
     "output_type": "execute_result"
    }
   ],
   "source": [
    "Safra_18_19.tail()"
   ]
  },
  {
   "cell_type": "code",
   "execution_count": null,
   "metadata": {},
   "outputs": [],
   "source": []
  }
 ],
 "metadata": {
  "kernelspec": {
   "display_name": "Python 3",
   "language": "python",
   "name": "python3"
  },
  "language_info": {
   "codemirror_mode": {
    "name": "ipython",
    "version": 3
   },
   "file_extension": ".py",
   "mimetype": "text/x-python",
   "name": "python",
   "nbconvert_exporter": "python",
   "pygments_lexer": "ipython3",
   "version": "3.8.5"
  }
 },
 "nbformat": 4,
 "nbformat_minor": 4
}
